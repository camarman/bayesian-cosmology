{
 "cells": [
  {
   "cell_type": "markdown",
   "id": "a56f1ccb-a935-41ed-a12c-c1545f575858",
   "metadata": {},
   "source": [
    "# Exercise iv)\n",
    "## You flip a coin n = 10 times and you obtain 8 heads.\n",
    "\n",
    "    H H H T H H H T H H"
   ]
  },
  {
   "cell_type": "markdown",
   "id": "c2184ddb-052a-438a-9f7b-5bc78390eddb",
   "metadata": {},
   "source": [
    "### a. What is the likelihood function for this measurement? Identify explicitly what are the data and what is the free parameter you are trying to estimate."
   ]
  },
  {
   "cell_type": "markdown",
   "id": "2b674db9-e486-4c0b-b9ac-7ba93056659b",
   "metadata": {},
   "source": [
    "The free parameter is the success probability or $p$. The likelihood function can be written as\n",
    "\n",
    "$$\\mathcal{L}(p)=C(N, r)p^r(1-p)^{N-r}$$\n",
    "\n",
    "here $C(N,r) = \\frac{N!}{r!(N-r)!}$, $N$: Total number of tries, $p$ success probability, $r$ is the number of heads (In this case success refers to getting heads)"
   ]
  },
  {
   "cell_type": "markdown",
   "id": "11a3abb7-01db-4aff-aa5b-bfe4461872f3",
   "metadata": {},
   "source": [
    "### b. What is the Maximum Likelihood Estimate for the probability of obtaining heads in one flip, $p$?"
   ]
  },
  {
   "cell_type": "markdown",
   "id": "ec5a21e9-d278-479b-9465-fbab8659f6c7",
   "metadata": {},
   "source": [
    "The ML can be found by using $$\\frac{\\partial \\ln \\mathcal{L}(p)}{\\partial p} \\Big|_{p_{ML}}=0$$\n",
    "\n",
    "For the binomial distribution, we obtain $$p_{ML} = \\frac{r}{N}$$\n",
    "\n",
    "In our example $$p_{ML} = \\frac{r}{N}=\\frac{8}{10}=0.2$$"
   ]
  },
  {
   "cell_type": "markdown",
   "id": "f6a0b143-61ed-4519-b6c2-3babafffa5a4",
   "metadata": {},
   "source": [
    "### c. Approximate the likelihood function as a Gaussian around its peak and derive the 1$\\sigma$ confidence interval for $p$. How would you report your result for $p$?"
   ]
  },
  {
   "cell_type": "markdown",
   "id": "6d915d7a-e92e-4db8-bf91-5a43e50efeb6",
   "metadata": {},
   "source": [
    "$$\\frac{1}{\\sum_{p}^2} \\equiv \\frac{1}{\\sigma^2_{p_{ML}}} -\\frac{\\partial^2 \\ln \\mathcal{L}(p)}{\\partial p^2}\\Big|_{p_{ML}}$$\n",
    "\n",
    "In this case by taking this derivative, we obtain"
   ]
  },
  {
   "cell_type": "markdown",
   "id": "55c92f92-dbee-4e98-997d-2a6a441c3e87",
   "metadata": {},
   "source": [
    "### d. With how many $\\sigma$ confidence can you exclude the hypothesis that the coin is fair? (Hint: compute the distance between the MLE for $p$ and $p = 1/2$ and express the result in number of $\\sigma$)."
   ]
  },
  {
   "cell_type": "markdown",
   "id": "06e2f7dd-b978-47c1-95b2-bb744ed3f1c2",
   "metadata": {},
   "source": [
    "### e. You now flip the coin 1000 times and obtain 800 heads. What is the MLE for $p$ now and what is the $1\\sigma$ confidence interval for $p$? With how many $\\sigma$ confidence can you exclude the hypothesis that the coin is fair now?"
   ]
  }
 ],
 "metadata": {
  "kernelspec": {
   "display_name": "Python 3 (ipykernel)",
   "language": "python",
   "name": "python3"
  },
  "language_info": {
   "codemirror_mode": {
    "name": "ipython",
    "version": 3
   },
   "file_extension": ".py",
   "mimetype": "text/x-python",
   "name": "python",
   "nbconvert_exporter": "python",
   "pygments_lexer": "ipython3",
   "version": "3.11.1"
  }
 },
 "nbformat": 4,
 "nbformat_minor": 5
}
