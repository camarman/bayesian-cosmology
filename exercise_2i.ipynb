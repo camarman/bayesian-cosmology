{
 "cells": [
  {
   "cell_type": "markdown",
   "id": "dcf3ecf0-6591-4269-b133-3d9a065f1c53",
   "metadata": {},
   "source": [
    "# Exercise i)\n",
    "## Gaussian 1D problem. The surface temperature on Mars is measured by a probe 10 times, yielding the following data (units of K):\n",
    "\n",
    "    191.9, 201.6, 206.1, 200.4, 203.2, 201.6, 196.5, 199.5, 194.1, 202.4"
   ]
  },
  {
   "cell_type": "code",
   "execution_count": 1,
   "id": "0a6d0de3-25d4-424e-a7ad-f66b47573fb8",
   "metadata": {},
   "outputs": [],
   "source": [
    "import numpy as np\n",
    "temp = [191.9, 201.6, 206.1, 200.4, 203.2, 201.6, 196.5, 199.5, 194.1, 202.4]"
   ]
  },
  {
   "cell_type": "markdown",
   "id": "c8186b7f-6b30-49e6-a3cd-d6f28975862f",
   "metadata": {},
   "source": [
    "### a. Assume that each measurement is independently Normally distributed with known variance $\\sigma^2 = 25 K^2$. What is the likelihood function for the whole data set?"
   ]
  },
  {
   "cell_type": "markdown",
   "id": "adedf460-4f18-463f-827d-9123d25d8f86",
   "metadata": {},
   "source": [
    "Since measurements are independent, we can write the total likelihood as a multiplication of the each likelihood\n",
    "\n",
    "$$\\mathcal{L}_{\\rm tot}(T) = \\prod_{i=1}^{10}\\frac{1}{5\\sqrt{2\\pi}}exp\\Big[-\\frac{1}{2}\\frac{(\\hat{T}_i-T)^2}{25}\\Big]$$\n"
   ]
  },
  {
   "cell_type": "markdown",
   "id": "dfd48b94-6f86-406c-a835-86a5328d73a7",
   "metadata": {},
   "source": [
    "### b. Find the Maximum Likelihood Estimate (MLE) for the surface temperature, $T_{ML}$ , and express your result to 4 significant figures accuracy.\n",
    "\n"
   ]
  },
  {
   "cell_type": "markdown",
   "id": "ee6fac83-06e7-4fb8-b73c-c3139b1e05ec",
   "metadata": {},
   "source": [
    "The MLE for the $T$ can be calculated by solving $$\\frac{\\partial \\ln \\mathcal{L}_{\\rm tot}(T)}{\\partial T} \\Big|_{T_{ML}}=0$$\n",
    "\n",
    "But, this is just the same as finding $$T_{ML} = \\frac{1}{N}\\sum_{i=1}^{N}T_i = \\frac{1}{10}\\sum_{i=1}^{10}T_i$$"
   ]
  },
  {
   "cell_type": "code",
   "execution_count": 2,
   "id": "872b13ee-1b98-4e4a-a14e-b6f2393ff0d2",
   "metadata": {},
   "outputs": [
    {
     "name": "stdout",
     "output_type": "stream",
     "text": [
      "T_ML = 199.7\n"
     ]
    }
   ],
   "source": [
    "T_ML = np.mean(temp)\n",
    "print('T_ML = {:.4g}'.format(T_ML))"
   ]
  },
  {
   "cell_type": "markdown",
   "id": "71333d6f-acce-49e1-b5c7-38b62531e695",
   "metadata": {},
   "source": [
    "### c. Determine symmetric confidence intervals at 68.3%, 95.4% and 99% around $T_{ML}$ (4 significant figures accuracy)."
   ]
  },
  {
   "cell_type": "markdown",
   "id": "e989262f-e2f6-4ccd-ac11-eb5224c883f9",
   "metadata": {},
   "source": [
    "Since, \n",
    "\n",
    "$T_{ML} \\pm \\sigma_{T_{ML}} \\rightarrow 68.3\\% $ CL\n",
    "\n",
    "$T_{ML} \\pm 2\\sigma_{T_{ML}} \\rightarrow 95.4\\% $ CL\n",
    "\n",
    "$T_{ML} \\pm 2.57\\sigma_{T_{ML}} \\rightarrow 99\\% $ CL\n",
    "\n",
    "where\n",
    "\n",
    "$$\\frac{1}{\\sum_{T}^2} \\equiv \\frac{1}{\\sigma^2_{T_{ML}}} -\\frac{\\partial^2 \\ln \\mathcal{L}(T)}{\\partial T^2}\\Big|_{T_{ML}}$$\n",
    "\n",
    "Thus, we obtain $$\\sigma_{T_{ML}} = \\sqrt{\\frac{\\sigma^2}{N}}$$"
   ]
  },
  {
   "cell_type": "code",
   "execution_count": 3,
   "id": "ca61540b-cea2-4413-a97a-8d7dd4be1680",
   "metadata": {},
   "outputs": [
    {
     "name": "stdout",
     "output_type": "stream",
     "text": [
      "68.3% CL: 199.7 +- 1.6\n",
      "95.4% CL: 199.7 +- 3.2\n",
      "99% CL: 199.7 +- 4.1\n"
     ]
    }
   ],
   "source": [
    "sigma_T_ML = np.sqrt(25/10)\n",
    "print('68.3% CL: {0:.4g} +- {1:.2g}'.format(T_ML, sigma_T_ML))\n",
    "print('95.4% CL: {0:.4g} +- {1:.2g}'.format(T_ML, 2*sigma_T_ML))\n",
    "print('99% CL: {0:.4g} +- {1:.2g}'.format(T_ML, 2.57*sigma_T_ML))\n"
   ]
  },
  {
   "cell_type": "markdown",
   "id": "b1ee49f4-e3aa-4ea4-8189-5065a1c0e2bc",
   "metadata": {},
   "source": [
    "### d. How many measurements would you need to make if you wanted to have a $1\\sigma$ confidence interval around the mean of length less than 1 K (on each side)?"
   ]
  },
  {
   "cell_type": "markdown",
   "id": "5acd83b8-f116-450a-bb18-c4e0afbdb00f",
   "metadata": {},
   "source": [
    "$$\\sigma_{T_{ML}} <= 1 \\rightarrow \\sqrt{\\frac{\\sigma^2}{N}} <= 1$$\n",
    "\n",
    "Thus,\n",
    "\n",
    "$$\\frac{25}{N} <= 1$$\n",
    "\n",
    "or $N$ should be larger than $25$"
   ]
  }
 ],
 "metadata": {
  "kernelspec": {
   "display_name": "Python 3 (ipykernel)",
   "language": "python",
   "name": "python3"
  },
  "language_info": {
   "codemirror_mode": {
    "name": "ipython",
    "version": 3
   },
   "file_extension": ".py",
   "mimetype": "text/x-python",
   "name": "python",
   "nbconvert_exporter": "python",
   "pygments_lexer": "ipython3",
   "version": "3.11.1"
  }
 },
 "nbformat": 4,
 "nbformat_minor": 5
}
