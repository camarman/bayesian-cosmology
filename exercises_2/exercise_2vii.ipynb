{
 "cells": [
  {
   "cell_type": "markdown",
   "id": "fd2a722d-f300-4681-8b66-03f59cb00fa5",
   "metadata": {},
   "source": [
    "# Exercise vii)\n",
    "## This problem generalizes the Gaussian measurement case to the case where the measurements have different uncertainties among them. You measure the flux F of photons from a laser source using 4 different instruments and you obtain the following results (units of 104 photons/cm2 ):\n",
    "\n",
    "    34.7 ± 5.0, 28.9 ± 2.0, 27.1 ± 3.0, 30.6 ± 4.0"
   ]
  },
  {
   "cell_type": "markdown",
   "id": "e760e988-99a6-4415-8144-c669693f9b4c",
   "metadata": {},
   "source": [
    "### a. Write down the likelihood for each measurement, and explain why a Gaussian approximation is justified in this case."
   ]
  },
  {
   "cell_type": "markdown",
   "id": "355f142d-c849-471c-b852-872088009d3f",
   "metadata": {},
   "source": [
    "$$ \\mathcal{L}_i(F) = \\frac{1}{\\sqrt{2\\pi}\\sigma_i}exp\\Big(-\\frac{1}{2}\\frac{(F-n_i)^2}{\\sigma^2_i} \\Big)$$\n",
    "\n",
    "where each measurement is given by $n_i \\pm \\sigma_i$"
   ]
  },
  {
   "cell_type": "markdown",
   "id": "ea2209cb-ac9f-4eba-b5ab-13e063be1cb5",
   "metadata": {},
   "source": [
    "### b. Write down the joint likelihood for the combination of the 4 measurements."
   ]
  },
  {
   "cell_type": "markdown",
   "id": "4f963560-3e47-4d61-974a-bb52eff2032a",
   "metadata": {},
   "source": [
    "Since the measurements are independent \n",
    "\n",
    "$$\\mathcal{L}_{\\rm tot} = \\prod_{i=1}^{M}\\mathcal{L}_i$$"
   ]
  },
  {
   "cell_type": "markdown",
   "id": "07f53a5f-5835-4aca-888f-c4c1ed44a67d",
   "metadata": {},
   "source": [
    "### c. Find the MLE of the photon flux, FML."
   ]
  },
  {
   "cell_type": "markdown",
   "id": "36d8781e-5312-46d7-81c7-afb85d093675",
   "metadata": {},
   "source": [
    "We need to evaluate $$\\frac{\\partial \\ln \\mathcal{L}_{\\rm tot}(F)}{\\partial F} \\Big|_{F_{\\rm ML}}=0$$\n",
    "\n",
    "Which gives $$F_{\\rm ML} = \\sum_{i=1}^{M}\\frac{n_i}{\\sigma^2_i/\\bar{\\sigma}^2_i}$$\n",
    "\n",
    "where\n",
    "\n",
    "$$\\frac{1}{\\bar{\\sigma}^2} = \\sum_{i=1}^M\\frac{1}{\\sigma^2_i}$$"
   ]
  },
  {
   "cell_type": "markdown",
   "id": "64d8b1d4-6e0a-48a8-9221-c3971dbc5a5c",
   "metadata": {},
   "source": [
    "### e. Find the 1σ confidence interval for your MLE for the mean, and show that it is given by:"
   ]
  },
  {
   "cell_type": "markdown",
   "id": "fbb12c8b-fde7-4717-a634-0cee714f7980",
   "metadata": {},
   "source": [
    "And in this case we need to again evaluate $$\\frac{1}{\\sigma^2_{F_{\\rm ML}}} = -\\frac{\\partial^2 \\ln \\mathcal{L_{\\rm tot}}(F)}{\\partial F^2}\\Big|_{F_{\\rm ML}}$$\n",
    "\n",
    "and it gives\n",
    "\n",
    "$$ \\sigma_{F_{\\rm ML}} = \\frac{1}{\\sqrt{\\sum_{i=1}^M\\frac{1}{\\sigma^2_i}}}$$"
   ]
  }
 ],
 "metadata": {
  "kernelspec": {
   "display_name": "Python 3 (ipykernel)",
   "language": "python",
   "name": "python3"
  },
  "language_info": {
   "codemirror_mode": {
    "name": "ipython",
    "version": 3
   },
   "file_extension": ".py",
   "mimetype": "text/x-python",
   "name": "python",
   "nbconvert_exporter": "python",
   "pygments_lexer": "ipython3",
   "version": "3.11.1"
  }
 },
 "nbformat": 4,
 "nbformat_minor": 5
}
