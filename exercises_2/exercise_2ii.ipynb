{
 "cells": [
  {
   "cell_type": "markdown",
   "id": "82925eb2-d241-4fdd-b46a-cde86b8dca2c",
   "metadata": {},
   "source": [
    "# Exercise ii)\n",
    "## The surface temperature on Mars is measured by a probe 10 times, yielding the following data (units of K):\n",
    "    \n",
    "    197.2, 202.4, 201.8, 198.8, 207.6, 191.4, 201.4, 198.2, 195.7, 201.2"
   ]
  },
  {
   "cell_type": "code",
   "execution_count": 1,
   "id": "e035400f-1251-42cc-9b90-c76f71112d9c",
   "metadata": {},
   "outputs": [],
   "source": [
    "import numpy as np\n",
    "temp = [197.2, 202.4, 201.8, 198.8, 207.6, 191.4, 201.4, 198.2, 195.7, 201.2]"
   ]
  },
  {
   "cell_type": "markdown",
   "id": "be396c09-9a0a-457d-a9e7-26a7954fa9a9",
   "metadata": {},
   "source": [
    "### a. Assuming that each measurement is independently Gaussian distributed with known variance $\\sigma^2 = 25K^2$ , what is the likelihood function for the whole data set?"
   ]
  },
  {
   "cell_type": "markdown",
   "id": "c708e765-cbb0-4f5e-a631-5354c031bc22",
   "metadata": {},
   "source": [
    "Since measurements are independent, we can write the total likelihood as a multiplication of the each likelihood\n",
    "\n",
    "$$\\mathcal{L}_{\\rm tot}(T) = \\prod_{i=1}^{10}\\frac{1}{5\\sqrt{2\\pi}}exp\\Big[-\\frac{1}{2}\\frac{(\\hat{T}_i-T)^2}{25}\\Big]$$"
   ]
  },
  {
   "cell_type": "markdown",
   "id": "96b2fbe4-27fb-4224-8d3c-760ae5a4846a",
   "metadata": {},
   "source": [
    "### b. What is the MLE of the mean, $T_{\\rm ML}$ ?"
   ]
  },
  {
   "cell_type": "markdown",
   "id": "766de5df-ad52-44b9-9a26-c15056915b3b",
   "metadata": {},
   "source": [
    "The MLE for the $T$ can be calculated by solving $$\\frac{\\partial \\ln \\mathcal{L}_{\\rm tot}(T)}{\\partial T} \\Big|_{T_{\\rm ML}}=0$$\n",
    "\n",
    "But, this is just the same as finding $$T_{\\rm ML} = \\frac{1}{N}\\sum_{i=1}^{N}T_i$$"
   ]
  },
  {
   "cell_type": "code",
   "execution_count": 2,
   "id": "2857decc-7379-4e69-b557-6f8813098d57",
   "metadata": {},
   "outputs": [
    {
     "name": "stdout",
     "output_type": "stream",
     "text": [
      "T_ML = 199.6\n"
     ]
    }
   ],
   "source": [
    "T_ML = np.mean(temp)\n",
    "print('T_ML = {:.4g}'.format(T_ML))"
   ]
  },
  {
   "cell_type": "markdown",
   "id": "48b0d6a5-901f-463d-ad84-549afc667651",
   "metadata": {},
   "source": [
    "### c. What is the uncertainty on our MLE for the mean?"
   ]
  },
  {
   "cell_type": "markdown",
   "id": "7dcbad78-c836-48ef-8775-8204baefa084",
   "metadata": {},
   "source": [
    "Since the uncertainty is $$\\sigma_{T_{\\rm ML}} = \\sqrt{\\frac{\\sigma^2}{N}}$$"
   ]
  },
  {
   "cell_type": "code",
   "execution_count": 3,
   "id": "3b7e1823-4fb1-4459-af34-2feac4b4d3f7",
   "metadata": {},
   "outputs": [
    {
     "name": "stdout",
     "output_type": "stream",
     "text": [
      "68.3% CL: 199.6 +- 1.6\n"
     ]
    }
   ],
   "source": [
    "sigma_T_ML = np.sqrt(25/10)\n",
    "print('68.3% CL: {0:.4g} +- {1:.2g}'.format(T_ML, sigma_T_ML))"
   ]
  }
 ],
 "metadata": {
  "kernelspec": {
   "display_name": "Python 3 (ipykernel)",
   "language": "python",
   "name": "python3"
  },
  "language_info": {
   "codemirror_mode": {
    "name": "ipython",
    "version": 3
   },
   "file_extension": ".py",
   "mimetype": "text/x-python",
   "name": "python",
   "nbconvert_exporter": "python",
   "pygments_lexer": "ipython3",
   "version": "3.11.1"
  }
 },
 "nbformat": 4,
 "nbformat_minor": 5
}
