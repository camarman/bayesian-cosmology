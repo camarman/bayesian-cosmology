{
 "cells": [
  {
   "cell_type": "markdown",
   "id": "a56f1ccb-a935-41ed-a12c-c1545f575858",
   "metadata": {},
   "source": [
    "# Exercise iv)\n",
    "## You flip a coin n = 10 times and you obtain 8 heads.\n",
    "\n",
    "    H H H T H H H T H H"
   ]
  },
  {
   "cell_type": "markdown",
   "id": "c2184ddb-052a-438a-9f7b-5bc78390eddb",
   "metadata": {},
   "source": [
    "### a. What is the likelihood function for this measurement? Identify explicitly what are the data and what is the free parameter you are trying to estimate."
   ]
  },
  {
   "cell_type": "markdown",
   "id": "2b674db9-e486-4c0b-b9ac-7ba93056659b",
   "metadata": {},
   "source": [
    "The free parameter is the success probability or $p$. The likelihood function can be written as\n",
    "\n",
    "$$\\mathcal{L}(p)=C(n, r)p^r(1-p)^{n-r}$$\n",
    "\n",
    "here $C(n,r) = \\frac{n!}{r!(n-r)!}$, $n$: Total number of tries, $p$ success probability, $r$ is the number of heads (In this case success refers to getting heads)"
   ]
  },
  {
   "cell_type": "markdown",
   "id": "11a3abb7-01db-4aff-aa5b-bfe4461872f3",
   "metadata": {},
   "source": [
    "### b. What is the Maximum Likelihood Estimate for the probability of obtaining heads in one flip, $p$?"
   ]
  },
  {
   "cell_type": "markdown",
   "id": "ec5a21e9-d278-479b-9465-fbab8659f6c7",
   "metadata": {},
   "source": [
    "The ML can be found by using $$\\frac{\\partial \\ln \\mathcal{L}(p)}{\\partial p} \\Big|_{p_{\\rm ML}}=0$$\n",
    "\n",
    "For the binomial distribution, we obtain $$p_{\\rm ML} = \\frac{r}{n}$$"
   ]
  },
  {
   "cell_type": "code",
   "execution_count": 1,
   "id": "58e2ee51-f82c-4e54-b575-6e9269075698",
   "metadata": {},
   "outputs": [
    {
     "name": "stdout",
     "output_type": "stream",
     "text": [
      "p_ML = 0.80\n"
     ]
    }
   ],
   "source": [
    "import numpy as np\n",
    "\n",
    "r = 8 # Number of Heads\n",
    "n = 10 # Total trial number\n",
    "p_ML = r/n\n",
    "print('p_ML = {:.2f}'.format(p_ML))"
   ]
  },
  {
   "cell_type": "markdown",
   "id": "f6a0b143-61ed-4519-b6c2-3babafffa5a4",
   "metadata": {},
   "source": [
    "### c. Approximate the likelihood function as a Gaussian around its peak and derive the 1$\\sigma$ confidence interval for $p$. How would you report your result for $p$?"
   ]
  },
  {
   "cell_type": "markdown",
   "id": "6d915d7a-e92e-4db8-bf91-5a43e50efeb6",
   "metadata": {},
   "source": [
    "$$\\frac{1}{\\sum_{p}^2} \\equiv \\frac{1}{\\sigma^2_{p_{\\rm ML}}} = -\\frac{\\partial^2 \\ln \\mathcal{L}(p)}{\\partial p^2}\\Big|_{p_{\\rm ML}}$$\n",
    "\n",
    "In this case by taking this derivative, we obtain\n",
    "\n",
    "$$ \\frac{1}{\\sigma^2_{p_{\\rm ML}}} = -\\frac{\\partial}{\\partial p}\\Big(\\frac{r}{p} - \\frac{n-r}{1-p}\\Big)\\Big|_{p_{\\rm ML}}$$\n",
    "\n",
    "and that is equal to\n",
    "\n",
    "$$\\sigma_{p_{\\rm ML}} = \\sqrt{\\frac{rn-r^2}{n^3}}$$\n",
    "\n"
   ]
  },
  {
   "cell_type": "code",
   "execution_count": 2,
   "id": "1fc7e4db-4242-475e-b614-00eabe1589f6",
   "metadata": {},
   "outputs": [
    {
     "name": "stdout",
     "output_type": "stream",
     "text": [
      "sigma_p_ML = 0.13\n"
     ]
    }
   ],
   "source": [
    "sigma_p_ML = np.sqrt((r*n-r**2)/(n**3))\n",
    "print('sigma_p_ML = {:.2f}'.format(sigma_p_ML))"
   ]
  },
  {
   "cell_type": "markdown",
   "id": "55c92f92-dbee-4e98-997d-2a6a441c3e87",
   "metadata": {},
   "source": [
    "### d. With how many $\\sigma$ confidence can you exclude the hypothesis that the coin is fair? (Hint: compute the distance between the MLE for $p$ and $p = 1/2$ and express the result in number of $\\sigma$)."
   ]
  },
  {
   "cell_type": "markdown",
   "id": "1a1008f0-d549-4362-a11b-f30c8bc031c0",
   "metadata": {},
   "source": [
    "$p_{\\rm ML} - p_{\\rm fair} = 0.8 - 0.5 = 0.3$\n",
    "\n",
    "Thus, the answer would be:"
   ]
  },
  {
   "cell_type": "code",
   "execution_count": 3,
   "id": "a1fcfa9c-36d8-4220-977e-64c58502f4dc",
   "metadata": {},
   "outputs": [
    {
     "name": "stdout",
     "output_type": "stream",
     "text": [
      "The coin is not fair with 2.37σ confidence\n"
     ]
    }
   ],
   "source": [
    "p_fair = 0.5\n",
    "diff = p_ML - p_fair\n",
    "print('The coin is not fair with {:.2f}σ confidence'.format(diff/sigma_p_ML))"
   ]
  },
  {
   "cell_type": "markdown",
   "id": "06e2f7dd-b978-47c1-95b2-bb744ed3f1c2",
   "metadata": {},
   "source": [
    "### e. You now flip the coin 1000 times and obtain 800 heads. What is the MLE for $p$ now and what is the $1\\sigma$ confidence interval for $p$? With how many $\\sigma$ confidence can you exclude the hypothesis that the coin is fair now?"
   ]
  },
  {
   "cell_type": "code",
   "execution_count": 4,
   "id": "2b8adc62-32bb-44bd-bf17-04674e96b101",
   "metadata": {},
   "outputs": [
    {
     "name": "stdout",
     "output_type": "stream",
     "text": [
      "p_ML_new = 0.80\n"
     ]
    }
   ],
   "source": [
    "r_new = 800\n",
    "n_new = 1000\n",
    "p_ML_new = r_new / n_new\n",
    "print('p_ML_new = {:.2f}'.format(p_ML_new))"
   ]
  },
  {
   "cell_type": "code",
   "execution_count": 5,
   "id": "449e4e96-97b4-4ab4-a48b-dbd0a64912b7",
   "metadata": {},
   "outputs": [
    {
     "name": "stdout",
     "output_type": "stream",
     "text": [
      "sigma_p_ML = 0.01\n"
     ]
    }
   ],
   "source": [
    "sigma_p_ML_new = np.sqrt((r_new*n_new-r_new**2)/(n_new**3))\n",
    "print('sigma_p_ML = {:.2f}'.format(sigma_p_ML_new))"
   ]
  },
  {
   "cell_type": "code",
   "execution_count": 6,
   "id": "7bec2312-67d5-4745-ab83-19cf2ff48878",
   "metadata": {},
   "outputs": [
    {
     "name": "stdout",
     "output_type": "stream",
     "text": [
      "The coin is not fair with 23.72σ confidence\n"
     ]
    }
   ],
   "source": [
    "diff_new = p_ML_new - p_fair\n",
    "print('The coin is not fair with {:.2f}σ confidence'.format(diff_new/sigma_p_ML_new))"
   ]
  }
 ],
 "metadata": {
  "kernelspec": {
   "display_name": "Python 3 (ipykernel)",
   "language": "python",
   "name": "python3"
  },
  "language_info": {
   "codemirror_mode": {
    "name": "ipython",
    "version": 3
   },
   "file_extension": ".py",
   "mimetype": "text/x-python",
   "name": "python",
   "nbconvert_exporter": "python",
   "pygments_lexer": "ipython3",
   "version": "3.11.1"
  }
 },
 "nbformat": 4,
 "nbformat_minor": 5
}
