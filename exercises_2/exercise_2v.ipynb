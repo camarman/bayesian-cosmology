{
 "cells": [
  {
   "cell_type": "markdown",
   "id": "c0a95edc-f30e-4a2b-a123-9426b74a0a4e",
   "metadata": {},
   "source": [
    "# Exercise v)\n",
    "## An experiment counting particles emitted by a radioactive decay measures r particles per unit time interval. The counts are Poisson distributed."
   ]
  },
  {
   "cell_type": "markdown",
   "id": "0f7386cc-cd4e-4380-8d64-625a443a89ab",
   "metadata": {},
   "source": [
    "### a. If $\\lambda$ is the average number of counts per per unit time interval, write down the appropriate probability distribution function for r."
   ]
  },
  {
   "cell_type": "markdown",
   "id": "58221316-adea-4b83-b5e6-d4dbe8610b37",
   "metadata": {},
   "source": [
    "$$\\mathcal{L}(\\lambda)= \\frac{\\lambda^r}{r!}e^{-\\lambda}$$ (Assuming $t=1$)"
   ]
  },
  {
   "cell_type": "markdown",
   "id": "387d55b5-1fee-40d1-a485-2d28b0acc5ac",
   "metadata": {},
   "source": [
    "### b. Now we seek to determine $\\lambda$ by repeatedly measuring for M times the number of counts per unit time interval. This series of measurements yields a sequence of counts $\\hat{r} = [\\hat{r}_1, \\hat{r}_2, \\hat{r}_3, ..., \\hat{r}_M]$. Each measurement is assumed to be independent. Derive the joint likelihood function for $\\lambda$ , $\\mathcal{L}(\\lambda) = P(r̂|\\lambda)$, given the measured sequence of counts $\\hat{r}$."
   ]
  },
  {
   "cell_type": "markdown",
   "id": "f59833d6-2ef3-4ae9-be34-45b324f44c67",
   "metadata": {},
   "source": [
    "$$\\mathcal{L_{\\rm tot}}(\\lambda)= \\prod_{i=1}^{M}\\frac{\\lambda^{r_i}}{r_i!}e^{-\\lambda}$$"
   ]
  },
  {
   "cell_type": "markdown",
   "id": "7f22c0b9-5cd9-408d-89d4-c445150b5690",
   "metadata": {},
   "source": [
    "### c. Use the Maximum Likelihood Principle applied to the the log likelihood $\\ln\\mathcal{L}(\\lambda)$ to show that the Maximum Likelihood estimator for the average rate $\\lambda$ is just the average of the measured counts, $\\hat{r}$, i.e.\n",
    "\n",
    " $$\\lambda_{\\rm ML} = \\frac{1}{M}\\sum_{i=1}^M\\hat{r}_i$$"
   ]
  },
  {
   "cell_type": "markdown",
   "id": "2a1ecb6d-9bc6-497a-99cd-9baeae56c9b6",
   "metadata": {},
   "source": [
    "$$\\ln{\\mathcal{L_{\\rm tot}}(\\lambda)}=\\sum_{i=1}^M\\Big[r_i \\ln(\\lambda)-ln(r_i!)-\\lambda \\Big]$$\n",
    "\n",
    "We need to evaluate $$\\frac{\\partial \\ln \\mathcal{L}_{\\rm tot}(\\lambda)}{\\partial \\lambda} \\Big|_{\\lambda_{\\rm ML}}=0$$\n",
    "\n",
    "Which gives $$\\sum_{i=1}^M \\frac{r_i}{\\lambda_{\\rm ML}} - 1 = 0$$\n",
    "\n",
    "or\n",
    "\n",
    " $$\\lambda_{\\rm ML} = \\frac{1}{M}\\sum_{i=1}^M\\hat{r}_i$$"
   ]
  },
  {
   "cell_type": "markdown",
   "id": "2fe50bb5-7c99-4224-a36f-fb5d035c8019",
   "metadata": {},
   "source": [
    "### d. By considering the Taylor expansion of $\\ln\\mathcal{L}(\\lambda)$ to second order around $\\lambda_{ML}$, derive the Gaussian approximation for the likelihood $\\mathcal{L}(\\lambda)$ around the Maximum Likelihood point, and show that it can be written as;\n",
    "\n",
    "$$\\mathcal{L}(\\lambda) \\approx \\mathcal{L}_0exp\\Big(-\\frac{1}{2}\\frac{M}{\\lambda_{\\rm ML}}(\\lambda-\\lambda_{\\rm ML})^2\\Big)$$\n",
    "\n",
    "### where $\\mathcal{L}_0$ is a normalization constant."
   ]
  },
  {
   "cell_type": "markdown",
   "id": "df600f8e-c51d-47bb-8f25-37df1cc4584d",
   "metadata": {},
   "source": [
    "### e. Compare with the equivalent expression for M Gaussian-distributed measurements to show that the variance $\\sigma^2$ of the Poisson distribution is given by $\\sigma^2 = \\lambda$."
   ]
  },
  {
   "cell_type": "markdown",
   "id": "84d80554-f573-46ce-8ccd-f77dafe8d553",
   "metadata": {},
   "source": [
    "$$ \\frac{1}{\\sigma^2_{\\lambda_{\\rm ML}}} = -\\frac{\\partial^2 \\ln \\mathcal{L_{\\rm tot}}(\\lambda)}{\\partial \\lambda^2}\\Big|_{\\lambda_{\\rm ML}}$$\n",
    "\n",
    "$$ \\frac{1}{\\sigma^2_{\\lambda_{\\rm ML}}} = - \\frac{\\partial}{\\partial \\lambda} \\Big(\\sum_{i=1}^M \\frac{r_i}{\\lambda_{\\rm ML}} - 1 \\Big)\\Big|_{\\lambda_{\\rm ML}}$$\n",
    "\n",
    "and solving the above identity gives $$\\sigma^2 = \\frac{\\lambda_{\\rm ML}}{M}$$\n"
   ]
  }
 ],
 "metadata": {
  "kernelspec": {
   "display_name": "Python 3 (ipykernel)",
   "language": "python",
   "name": "python3"
  },
  "language_info": {
   "codemirror_mode": {
    "name": "ipython",
    "version": 3
   },
   "file_extension": ".py",
   "mimetype": "text/x-python",
   "name": "python",
   "nbconvert_exporter": "python",
   "pygments_lexer": "ipython3",
   "version": "3.11.1"
  }
 },
 "nbformat": 4,
 "nbformat_minor": 5
}
