{
 "cells": [
  {
   "cell_type": "markdown",
   "id": "57180255-2346-4657-9cc2-bd4972c1342d",
   "metadata": {},
   "source": [
    "# Exercise iii)\n",
    "## A laser beam is used to measure the deviation of the distance between the Earth and the Moon from its average value, giving the following data, in units of cm:\n",
    "    \n",
    "    119, 119, 122, 121, 116."
   ]
  },
  {
   "cell_type": "code",
   "execution_count": 1,
   "id": "81804fb5-fd7e-4423-a7a7-58fae7c81efb",
   "metadata": {},
   "outputs": [],
   "source": [
    "import numpy as np\n",
    "dev = [119, 119, 122, 121, 116]"
   ]
  },
  {
   "cell_type": "markdown",
   "id": "c0565c55-8ca7-4a4d-a202-0790523a72b2",
   "metadata": {},
   "source": [
    "### a. Assuming that each measurement above follows an independent Gaussian distribution of known standard deviation $\\sigma = 3$ cm, write down the joint likelihood function for $\\Delta$ , the deviation of the Earth-Moon distance from its average value"
   ]
  },
  {
   "cell_type": "markdown",
   "id": "aaa0e070-c811-467b-9c78-ad29e1e28ef7",
   "metadata": {},
   "source": [
    "Since measurements are independent, we can write the total likelihood as a multiplication of the each likelihood\n",
    "\n",
    "$$\\mathcal{L}_{\\rm tot}(\\Delta) = \\prod_{i=1}^{5}\\frac{1}{3\\sqrt{2\\pi}}exp\\Big[-\\frac{1}{2}\\frac{(\\hat{\\Delta}_i-\\Delta)^2}{9}\\Big]$$"
   ]
  },
  {
   "cell_type": "markdown",
   "id": "56257d12-1a1e-4762-9456-417fb2de78bf",
   "metadata": {},
   "source": [
    "### b. Compute the maximum likelihood estimate for $\\Delta$ and its uncertainty, both to 3 significant figures."
   ]
  },
  {
   "cell_type": "markdown",
   "id": "4df6f7f5-b7ad-4792-81d5-5d60fae62385",
   "metadata": {},
   "source": [
    "The MLE for the $\\Delta$ can be calculated by solving $$\\frac{\\partial \\ln \\mathcal{L}_{\\rm tot}(\\Delta)}{\\partial \\Delta} \\Big|_{\\Delta_{\\rm ML}}=0$$\n",
    "\n",
    "But, this is just the same as finding $$\\Delta_{\\rm ML} = \\frac{1}{N}\\sum_{i=1}^{N}\\Delta_i$$\n",
    "\n",
    "and the uncertainty is $$\\sigma_{\\Delta_{\\rm ML}} = \\sqrt{\\frac{\\sigma^2}{N}}$$"
   ]
  },
  {
   "cell_type": "code",
   "execution_count": 2,
   "id": "4f52ce98-7638-48af-b00a-6a7491b9b5df",
   "metadata": {},
   "outputs": [
    {
     "name": "stdout",
     "output_type": "stream",
     "text": [
      "dev_ML = 119\n",
      "sigma_dev_ML = 1\n"
     ]
    }
   ],
   "source": [
    "dev_ML = np.mean(dev)\n",
    "sigma_dev_ML = np.sqrt(9/5)\n",
    "\n",
    "print('dev_ML = {:.3g}'.format(dev_ML))\n",
    "print('sigma_dev_ML = {:.1g}'.format(sigma_dev_ML))"
   ]
  },
  {
   "cell_type": "markdown",
   "id": "75f14ca9-1f60-4632-9f68-87ee58c854d1",
   "metadata": {},
   "source": [
    "### c. How would you report the measurement of $\\Delta$ (giving a 1-$\\sigma$ confidence interval)?"
   ]
  },
  {
   "cell_type": "code",
   "execution_count": 3,
   "id": "4b185faa-3563-4412-ad9e-549d40a79385",
   "metadata": {},
   "outputs": [
    {
     "name": "stdout",
     "output_type": "stream",
     "text": [
      "68.3% CL: 119 +- 1\n"
     ]
    }
   ],
   "source": [
    "print('68.3% CL: {0:.3g} +- {1:.1g}'.format(dev_ML, sigma_dev_ML))"
   ]
  }
 ],
 "metadata": {
  "kernelspec": {
   "display_name": "Python 3 (ipykernel)",
   "language": "python",
   "name": "python3"
  },
  "language_info": {
   "codemirror_mode": {
    "name": "ipython",
    "version": 3
   },
   "file_extension": ".py",
   "mimetype": "text/x-python",
   "name": "python",
   "nbconvert_exporter": "python",
   "pygments_lexer": "ipython3",
   "version": "3.11.1"
  }
 },
 "nbformat": 4,
 "nbformat_minor": 5
}
